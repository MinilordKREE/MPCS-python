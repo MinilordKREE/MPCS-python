{
 "cells": [
  {
   "cell_type": "code",
   "execution_count": null,
   "metadata": {},
   "outputs": [
    {
     "name": "stderr",
     "output_type": "stream",
     "text": [
      "/home/chenxi3/.local/lib/python3.10/site-packages/tqdm/auto.py:21: TqdmWarning: IProgress not found. Please update jupyter and ipywidgets. See https://ipywidgets.readthedocs.io/en/stable/user_install.html\n",
      "  from .autonotebook import tqdm as notebook_tqdm\n"
     ]
    }
   ],
   "source": [
    "# Import libraries\n",
    "import pandas as pd\n",
    "import numpy as np\n",
    "from sklearn.model_selection import train_test_split\n",
    "from sklearn.ensemble import RandomForestClassifier\n",
    "from sklearn.linear_model import LogisticRegression\n",
    "from sklearn.metrics import classification_report, roc_auc_score\n",
    "from sklearn.feature_extraction.text import TfidfVectorizer\n",
    "import matplotlib.pyplot as plt\n",
    "import seaborn as sns\n",
    "from transformers import RobertaTokenizer, RobertaModel\n",
    "import torch\n",
    "from tqdm import tqdm\n",
    "\n",
    "# Load data\n",
    "data = pd.read_csv('/net/scratch2/chenxi/MPCS-python/data/final_mfrc_data.csv')"
   ]
  },
  {
   "cell_type": "code",
   "execution_count": 2,
   "metadata": {},
   "outputs": [
    {
     "name": "stdout",
     "output_type": "stream",
     "text": [
      "Dataset preview:\n"
     ]
    },
    {
     "data": {
      "text/html": [
       "<div>\n",
       "<style scoped>\n",
       "    .dataframe tbody tr th:only-of-type {\n",
       "        vertical-align: middle;\n",
       "    }\n",
       "\n",
       "    .dataframe tbody tr th {\n",
       "        vertical-align: top;\n",
       "    }\n",
       "\n",
       "    .dataframe thead th {\n",
       "        text-align: right;\n",
       "    }\n",
       "</style>\n",
       "<table border=\"1\" class=\"dataframe\">\n",
       "  <thead>\n",
       "    <tr style=\"text-align: right;\">\n",
       "      <th></th>\n",
       "      <th>text</th>\n",
       "      <th>subreddit</th>\n",
       "      <th>bucket</th>\n",
       "      <th>annotator</th>\n",
       "      <th>annotation</th>\n",
       "      <th>confidence</th>\n",
       "    </tr>\n",
       "  </thead>\n",
       "  <tbody>\n",
       "    <tr>\n",
       "      <th>0</th>\n",
       "      <td>That particular part of the debate is especial...</td>\n",
       "      <td>europe</td>\n",
       "      <td>French politics</td>\n",
       "      <td>annotator03</td>\n",
       "      <td>Non-Moral</td>\n",
       "      <td>Confident</td>\n",
       "    </tr>\n",
       "    <tr>\n",
       "      <th>1</th>\n",
       "      <td>That particular part of the debate is especial...</td>\n",
       "      <td>europe</td>\n",
       "      <td>French politics</td>\n",
       "      <td>annotator01</td>\n",
       "      <td>Purity</td>\n",
       "      <td>Confident</td>\n",
       "    </tr>\n",
       "    <tr>\n",
       "      <th>2</th>\n",
       "      <td>That particular part of the debate is especial...</td>\n",
       "      <td>europe</td>\n",
       "      <td>French politics</td>\n",
       "      <td>annotator02</td>\n",
       "      <td>Thin Morality</td>\n",
       "      <td>Confident</td>\n",
       "    </tr>\n",
       "    <tr>\n",
       "      <th>3</th>\n",
       "      <td>/r/france is pretty lively, with it's own ling...</td>\n",
       "      <td>europe</td>\n",
       "      <td>French politics</td>\n",
       "      <td>annotator03</td>\n",
       "      <td>Non-Moral</td>\n",
       "      <td>Confident</td>\n",
       "    </tr>\n",
       "    <tr>\n",
       "      <th>4</th>\n",
       "      <td>/r/france is pretty lively, with it's own ling...</td>\n",
       "      <td>europe</td>\n",
       "      <td>French politics</td>\n",
       "      <td>annotator00</td>\n",
       "      <td>Non-Moral</td>\n",
       "      <td>Somewhat Confident</td>\n",
       "    </tr>\n",
       "  </tbody>\n",
       "</table>\n",
       "</div>"
      ],
      "text/plain": [
       "                                                text subreddit  \\\n",
       "0  That particular part of the debate is especial...    europe   \n",
       "1  That particular part of the debate is especial...    europe   \n",
       "2  That particular part of the debate is especial...    europe   \n",
       "3  /r/france is pretty lively, with it's own ling...    europe   \n",
       "4  /r/france is pretty lively, with it's own ling...    europe   \n",
       "\n",
       "            bucket    annotator     annotation          confidence  \n",
       "0  French politics  annotator03      Non-Moral           Confident  \n",
       "1  French politics  annotator01         Purity           Confident  \n",
       "2  French politics  annotator02  Thin Morality           Confident  \n",
       "3  French politics  annotator03      Non-Moral           Confident  \n",
       "4  French politics  annotator00      Non-Moral  Somewhat Confident  "
      ]
     },
     "execution_count": 2,
     "metadata": {},
     "output_type": "execute_result"
    }
   ],
   "source": [
    "# Preview dataset\n",
    "print(\"Dataset preview:\")\n",
    "data.head()"
   ]
  },
  {
   "cell_type": "code",
   "execution_count": 3,
   "metadata": {},
   "outputs": [],
   "source": [
    "# Unify labels according to rules\n",
    "def unify_labels(annotation_set):\n",
    "    unified = set()\n",
    "    for label in annotation_set:\n",
    "        if label == \"Purity\":\n",
    "            unified.add(\"Sanctity\")\n",
    "        elif label in {\"Equality\", \"Proportionality\"}:\n",
    "            unified.add(\"Fairness\")\n",
    "        else:\n",
    "            unified.add(label)\n",
    "    return unified"
   ]
  },
  {
   "cell_type": "code",
   "execution_count": 4,
   "metadata": {},
   "outputs": [
    {
     "data": {
      "image/png": "[encoded data removed]",
      "text/plain": [
       "<Figure size 1000x500 with 1 Axes>"
      ]
     },
     "metadata": {},
     "output_type": "display_data"
    }
   ],
   "source": [
    "# Aggregate annotations per unique comment (text)\n",
    "aggregated_data = data.groupby('text')['annotation'].apply(set).reset_index()\n",
    "\n",
    "# Apply label unification\n",
    "aggregated_data['unified_annotations'] = aggregated_data['annotation'].apply(unify_labels)\n",
    "\n",
    "# Create binary classification labels for each foundation\n",
    "foundations = [\"Care\", \"Fairness\", \"Loyalty\", \"Authority\", \"Sanctity\"]\n",
    "for foundation in foundations:\n",
    "    aggregated_data[foundation] = aggregated_data['unified_annotations'].apply(lambda x: 1 if foundation in x else 0)\n",
    "\n",
    "# Display the resulting dataframe\n",
    "aggregated_data.head()\n",
    "\n",
    "# Drop rows with missing text\n",
    "data_clean = aggregated_data.dropna(subset=['text'])\n",
    "\n",
    "# Simple EDA\n",
    "plt.figure(figsize=(10, 5))\n",
    "data_clean[foundations].sum().plot(kind='bar')\n",
    "plt.title('Distribution of Moral Foundations')\n",
    "plt.xlabel('Moral Foundation')\n",
    "plt.ylabel('Count')\n",
    "plt.show()\n"
   ]
  },
  {
   "cell_type": "code",
   "execution_count": 5,
   "metadata": {},
   "outputs": [
    {
     "data": {
      "image/png": "[encoded data removed]",
      "text/plain": [
       "<Figure size 640x480 with 1 Axes>"
      ]
     },
     "metadata": {},
     "output_type": "display_data"
    }
   ],
   "source": [
    "# Text length analysis\n",
    "data_clean['text_length'] = data_clean['text'].apply(len)\n",
    "sns.boxplot(data=data_clean[foundations + ['text_length']], orient='h')\n",
    "plt.title('Text Length Distribution by Moral Foundation')\n",
    "plt.xlabel('Text Length')\n",
    "plt.show()\n",
    "\n",
    "# Prepare data for modeling\n",
    "vectorizer = TfidfVectorizer(stop_words='english', max_features=5000)\n",
    "X = vectorizer.fit_transform(data_clean['text'])"
   ]
  },
  {
   "cell_type": "code",
   "execution_count": 6,
   "metadata": {},
   "outputs": [
    {
     "name": "stdout",
     "output_type": "stream",
     "text": [
      "\n",
      "Modeling for Care\n",
      "Random Forest AUC for Care: 0.560\n",
      "Logistic Regression AUC for Care: 0.571\n",
      "\n",
      "Modeling for Fairness\n",
      "Random Forest AUC for Fairness: 0.577\n",
      "Logistic Regression AUC for Fairness: 0.557\n",
      "\n",
      "Modeling for Loyalty\n",
      "Random Forest AUC for Loyalty: 0.543\n",
      "Logistic Regression AUC for Loyalty: 0.502\n",
      "\n",
      "Modeling for Authority\n",
      "Random Forest AUC for Authority: 0.520\n",
      "Logistic Regression AUC for Authority: 0.517\n",
      "\n",
      "Modeling for Sanctity\n",
      "Random Forest AUC for Sanctity: 0.535\n",
      "Logistic Regression AUC for Sanctity: 0.507\n"
     ]
    }
   ],
   "source": [
    "# Train and evaluate models for each foundation\n",
    "for foundation in foundations:\n",
    "    print(f\"\\nModeling for {foundation}\")\n",
    "    y = data_clean[foundation]\n",
    "    X_train, X_test, y_train, y_test = train_test_split(X, y, test_size=0.3, random_state=42, stratify=y)\n",
    "\n",
    "    # Random Forest Model\n",
    "    rf_model = RandomForestClassifier(random_state=42)\n",
    "    rf_model.fit(X_train, y_train)\n",
    "    rf_preds = rf_model.predict(X_test)\n",
    "    rf_auc = roc_auc_score(y_test, rf_preds)\n",
    "    print(f\"Random Forest AUC for {foundation}: {rf_auc:.3f}\")\n",
    "\n",
    "    # Logistic Regression Model\n",
    "    lr_model = LogisticRegression(max_iter=500)\n",
    "    lr_model.fit(X_train, y_train)\n",
    "    lr_preds = lr_model.predict(X_test)\n",
    "    lr_auc = roc_auc_score(y_test, lr_preds)\n",
    "    print(f\"Logistic Regression AUC for {foundation}: {lr_auc:.3f}\")"
   ]
  },
  {
   "cell_type": "code",
   "execution_count": 7,
   "metadata": {},
   "outputs": [
    {
     "name": "stderr",
     "output_type": "stream",
     "text": [
      "Some weights of RobertaModel were not initialized from the model checkpoint at roberta-base and are newly initialized: ['roberta.pooler.dense.bias', 'roberta.pooler.dense.weight']\n",
      "You should probably TRAIN this model on a down-stream task to be able to use it for predictions and inference.\n"
     ]
    },
    {
     "name": "stdout",
     "output_type": "stream",
     "text": [
      "\n",
      "Modeling for Care\n",
      "Random Forest AUC for Care: 0.538\n"
     ]
    },
    {
     "name": "stderr",
     "output_type": "stream",
     "text": [
      "/net/projects/chai-lab/miniconda3/envs/llava_chenxi/lib/python3.10/site-packages/sklearn/linear_model/_logistic.py:458: ConvergenceWarning: lbfgs failed to converge (status=1):\n",
      "STOP: TOTAL NO. OF ITERATIONS REACHED LIMIT.\n",
      "\n",
      "Increase the number of iterations (max_iter) or scale the data as shown in:\n",
      "    https://scikit-learn.org/stable/modules/preprocessing.html\n",
      "Please also refer to the documentation for alternative solver options:\n",
      "    https://scikit-learn.org/stable/modules/linear_model.html#logistic-regression\n",
      "  n_iter_i = _check_optimize_result(\n"
     ]
    },
    {
     "name": "stdout",
     "output_type": "stream",
     "text": [
      "Logistic Regression AUC for Care: 0.661\n",
      "\n",
      "Modeling for Fairness\n",
      "Random Forest AUC for Fairness: 0.507\n"
     ]
    },
    {
     "name": "stderr",
     "output_type": "stream",
     "text": [
      "/net/projects/chai-lab/miniconda3/envs/llava_chenxi/lib/python3.10/site-packages/sklearn/linear_model/_logistic.py:458: ConvergenceWarning: lbfgs failed to converge (status=1):\n",
      "STOP: TOTAL NO. OF ITERATIONS REACHED LIMIT.\n",
      "\n",
      "Increase the number of iterations (max_iter) or scale the data as shown in:\n",
      "    https://scikit-learn.org/stable/modules/preprocessing.html\n",
      "Please also refer to the documentation for alternative solver options:\n",
      "    https://scikit-learn.org/stable/modules/linear_model.html#logistic-regression\n",
      "  n_iter_i = _check_optimize_result(\n"
     ]
    },
    {
     "name": "stdout",
     "output_type": "stream",
     "text": [
      "Logistic Regression AUC for Fairness: 0.599\n",
      "\n",
      "Modeling for Loyalty\n",
      "Random Forest AUC for Loyalty: 0.500\n"
     ]
    },
    {
     "name": "stderr",
     "output_type": "stream",
     "text": [
      "/net/projects/chai-lab/miniconda3/envs/llava_chenxi/lib/python3.10/site-packages/sklearn/linear_model/_logistic.py:458: ConvergenceWarning: lbfgs failed to converge (status=1):\n",
      "STOP: TOTAL NO. OF ITERATIONS REACHED LIMIT.\n",
      "\n",
      "Increase the number of iterations (max_iter) or scale the data as shown in:\n",
      "    https://scikit-learn.org/stable/modules/preprocessing.html\n",
      "Please also refer to the documentation for alternative solver options:\n",
      "    https://scikit-learn.org/stable/modules/linear_model.html#logistic-regression\n",
      "  n_iter_i = _check_optimize_result(\n"
     ]
    },
    {
     "name": "stdout",
     "output_type": "stream",
     "text": [
      "Logistic Regression AUC for Loyalty: 0.522\n",
      "\n",
      "Modeling for Authority\n",
      "Random Forest AUC for Authority: 0.500\n"
     ]
    },
    {
     "name": "stderr",
     "output_type": "stream",
     "text": [
      "/net/projects/chai-lab/miniconda3/envs/llava_chenxi/lib/python3.10/site-packages/sklearn/linear_model/_logistic.py:458: ConvergenceWarning: lbfgs failed to converge (status=1):\n",
      "STOP: TOTAL NO. OF ITERATIONS REACHED LIMIT.\n",
      "\n",
      "Increase the number of iterations (max_iter) or scale the data as shown in:\n",
      "    https://scikit-learn.org/stable/modules/preprocessing.html\n",
      "Please also refer to the documentation for alternative solver options:\n",
      "    https://scikit-learn.org/stable/modules/linear_model.html#logistic-regression\n",
      "  n_iter_i = _check_optimize_result(\n"
     ]
    },
    {
     "name": "stdout",
     "output_type": "stream",
     "text": [
      "Logistic Regression AUC for Authority: 0.569\n",
      "\n",
      "Modeling for Sanctity\n",
      "Random Forest AUC for Sanctity: 0.500\n",
      "Logistic Regression AUC for Sanctity: 0.533\n"
     ]
    }
   ],
   "source": [
    "# Initialize RoBERTa tokenizer and model on GPU\n",
    "device = torch.device('cuda' if torch.cuda.is_available() else 'cpu')\n",
    "model_name = 'roberta-base'\n",
    "tokenizer = RobertaTokenizer.from_pretrained(model_name)\n",
    "model = RobertaModel.from_pretrained(model_name).to(device)\n",
    "\n",
    "# Function to generate RoBERTa embeddings on GPU\n",
    "def get_roberta_embeddings(texts):\n",
    "    embeddings = []\n",
    "    model.eval()\n",
    "    with torch.no_grad():\n",
    "        for text in texts:\n",
    "            inputs = tokenizer(text, return_tensors='pt', truncation=True, max_length=512).to(device)\n",
    "            outputs = model(**inputs)\n",
    "            embedding = outputs.last_hidden_state.mean(dim=1).squeeze().cpu().numpy()\n",
    "            embeddings.append(embedding)\n",
    "    return np.array(embeddings)\n",
    "\n",
    "# Generate embeddings\n",
    "X_embeddings = get_roberta_embeddings(data_clean['text'].tolist())\n",
    "\n",
    "# Train and evaluate models for each foundation\n",
    "for foundation in foundations:\n",
    "    print(f\"\\nModeling for {foundation}\")\n",
    "    y = data_clean[foundation].values\n",
    "    X_train, X_test, y_train, y_test = train_test_split(X_embeddings, y, test_size=0.3, random_state=42, stratify=y)\n",
    "\n",
    "    # Random Forest Model\n",
    "    rf_model = RandomForestClassifier(random_state=42)\n",
    "    rf_model.fit(X_train, y_train)\n",
    "    rf_preds = rf_model.predict(X_test)\n",
    "    rf_auc = roc_auc_score(y_test, rf_preds)\n",
    "    print(f\"Random Forest AUC for {foundation}: {rf_auc:.3f}\")\n",
    "\n",
    "    # Logistic Regression Model\n",
    "    lr_model = LogisticRegression(max_iter=500)\n",
    "    lr_model.fit(X_train, y_train)\n",
    "    lr_preds = lr_model.predict(X_test)\n",
    "    lr_auc = roc_auc_score(y_test, lr_preds)\n",
    "    print(f\"Logistic Regression AUC for {foundation}: {lr_auc:.3f}\")\n"
   ]
  },
  {
   "cell_type": "code",
   "execution_count": null,
   "metadata": {},
   "outputs": [],
   "source": []
  },
  {
   "cell_type": "code",
   "execution_count": null,
   "metadata": {},
   "outputs": [],
   "source": []
  },
  {
   "cell_type": "code",
   "execution_count": null,
   "metadata": {},
   "outputs": [],
   "source": []
  }
 ],
 "metadata": {
  "kernelspec": {
   "display_name": "llava_chenxi",
   "language": "python",
   "name": "python3"
  },
  "language_info": {
   "codemirror_mode": {
    "name": "ipython",
    "version": 3
   },
   "file_extension": ".py",
   "mimetype": "text/x-python",
   "name": "python",
   "nbconvert_exporter": "python",
   "pygments_lexer": "ipython3",
   "version": "3.10.16"
  }
 },
 "nbformat": 4,
 "nbformat_minor": 2
}
